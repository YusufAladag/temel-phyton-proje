{
 "cells": [
  {
   "cell_type": "markdown",
   "id": "06e4642d-be07-43d1-8607-c016dc9b1248",
   "metadata": {},
   "source": [
    "1- Bir listeyi düzleştiren (flatten) fonksiyon yazın. Elemanları birden çok katmanlı listelerden ([[3],2] gibi) oluşabileceği gibi, non-scalar verilerden de oluşabilir."
   ]
  },
  {
   "cell_type": "code",
   "execution_count": 15,
   "id": "ac77a51e-1071-4248-8bf9-e427d3d2fab8",
   "metadata": {
    "tags": []
   },
   "outputs": [],
   "source": [
    "lst = [[1,'a',['cat'],2],[[[3]],'dog'],4,5]\n",
    "def flatten(lst):\n",
    "    flattened = []\n",
    "    for i in lst:\n",
    "        if isinstance(i, list):\n",
    "            flattened.extend(flatten(i))\n",
    "        else:\n",
    "            flattened.append(i)\n",
    "    return flattened\n"
   ]
  },
  {
   "cell_type": "code",
   "execution_count": 17,
   "id": "20560b21-b26e-43e6-8299-576e2c0752df",
   "metadata": {
    "tags": []
   },
   "outputs": [
    {
     "data": {
      "text/plain": [
       "[[1, 'a', ['cat'], 2], [[[3]], 'dog'], 4, 5]"
      ]
     },
     "execution_count": 17,
     "metadata": {},
     "output_type": "execute_result"
    }
   ],
   "source": [
    "lst"
   ]
  },
  {
   "cell_type": "code",
   "execution_count": 16,
   "id": "a3b7e478-f63b-470d-bfc5-39df817a967d",
   "metadata": {
    "tags": []
   },
   "outputs": [
    {
     "data": {
      "text/plain": [
       "[1, 'a', 'cat', 2, 3, 'dog', 4, 5]"
      ]
     },
     "execution_count": 16,
     "metadata": {},
     "output_type": "execute_result"
    }
   ],
   "source": [
    "flatten(lst)"
   ]
  },
  {
   "cell_type": "markdown",
   "id": "311c96bc-143a-4ae1-9c69-ef4138d1b6f8",
   "metadata": {},
   "source": [
    "2- Verilen listenin içindeki elemanları tersine döndüren bir fonksiyon yazın. Eğer listenin içindeki elemanlar da liste içeriyorsa onların elemanlarını da tersine döndürün."
   ]
  },
  {
   "cell_type": "code",
   "execution_count": 21,
   "id": "ad2323e9-9a92-48b1-a611-207a7e009655",
   "metadata": {
    "tags": []
   },
   "outputs": [],
   "source": [
    "y = [[1, 2], [3, 4], [5, 6, 7]]\n",
    "\n",
    "def reverse_nested_list(y):\n",
    "    for l in y:\n",
    "        l.reverse()\n",
    "    y.reverse()\n",
    "    return y\n"
   ]
  },
  {
   "cell_type": "code",
   "execution_count": 22,
   "id": "8a735720-9dbb-4760-9f30-d14511f3d4b6",
   "metadata": {
    "tags": []
   },
   "outputs": [
    {
     "data": {
      "text/plain": [
       "[[1, 2], [3, 4], [5, 6, 7]]"
      ]
     },
     "execution_count": 22,
     "metadata": {},
     "output_type": "execute_result"
    }
   ],
   "source": [
    "y"
   ]
  },
  {
   "cell_type": "code",
   "execution_count": 24,
   "id": "bf21f4f8-3ec1-4bd2-b606-d0f765778e29",
   "metadata": {
    "tags": []
   },
   "outputs": [
    {
     "data": {
      "text/plain": [
       "[[7, 6, 5], [4, 3], [2, 1]]"
      ]
     },
     "execution_count": 24,
     "metadata": {},
     "output_type": "execute_result"
    }
   ],
   "source": [
    "reverse_nested_list(y)"
   ]
  }
 ],
 "metadata": {
  "kernelspec": {
   "display_name": "Python 3 (ipykernel)",
   "language": "python",
   "name": "python3"
  },
  "language_info": {
   "codemirror_mode": {
    "name": "ipython",
    "version": 3
   },
   "file_extension": ".py",
   "mimetype": "text/x-python",
   "name": "python",
   "nbconvert_exporter": "python",
   "pygments_lexer": "ipython3",
   "version": "3.11.2"
  }
 },
 "nbformat": 4,
 "nbformat_minor": 5
}
